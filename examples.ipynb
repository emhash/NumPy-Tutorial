{
 "cells": [
  {
   "cell_type": "code",
   "execution_count": 1,
   "metadata": {},
   "outputs": [],
   "source": [
    "import numpy as np"
   ]
  },
  {
   "cell_type": "code",
   "execution_count": 6,
   "metadata": {},
   "outputs": [
    {
     "data": {
      "text/plain": [
       "array([[1., 0., 0., 0., 0.],\n",
       "       [0., 1., 0., 0., 0.],\n",
       "       [0., 0., 1., 0., 0.],\n",
       "       [0., 0., 0., 1., 0.],\n",
       "       [0., 0., 0., 0., 1.]])"
      ]
     },
     "execution_count": 6,
     "metadata": {},
     "output_type": "execute_result"
    }
   ],
   "source": [
    "np.eye(5)"
   ]
  },
  {
   "cell_type": "code",
   "execution_count": 8,
   "metadata": {},
   "outputs": [
    {
     "data": {
      "text/plain": [
       "array([1.+0.j, 2.+0.j, 3.+0.j])"
      ]
     },
     "execution_count": 8,
     "metadata": {},
     "output_type": "execute_result"
    }
   ],
   "source": [
    "np.array([1,2,3], \"complex\") # For complex number representation"
   ]
  },
  {
   "cell_type": "code",
   "execution_count": 13,
   "metadata": {},
   "outputs": [
    {
     "name": "stdout",
     "output_type": "stream",
     "text": [
      "[2 4 6]\n",
      "[1 2 3]\n",
      "Ex of slice 2D -  [[ 2  3  4]\n",
      " [ 8  9 10]]\n",
      "More ex -  [[0 1]\n",
      " [6 7]]\n"
     ]
    }
   ],
   "source": [
    "\n",
    "arr = np.array([1,2,3,4,5,6,7,8,9,10,11,12,13,14,15,16])\n",
    "print(arr[1:6:2]) # This systax of slice -- [start         :        end           :  step]\n",
    "                                            # start_from , end_step_one_step_ahead, step of gap\n",
    "print(arr[:3])\n",
    "\n",
    "# MULTI SLICE\n",
    "arr1 = np.array(\n",
    "    [\n",
    "        [0,1,2,3,4,5], \n",
    "        [6,7,8,9,10,11]\n",
    "    ]\n",
    "    )\n",
    "\n",
    "print(\"Ex of slice 2D - \",arr1[:3 , 2:5]) #This 2nd half refers where to slice even if we declear in first half to slice from 0 to 2\n",
    "print(\"More ex - \",arr1[0:2, 0:2])\n",
    "#                      row , col "
   ]
  },
  {
   "cell_type": "code",
   "execution_count": 15,
   "metadata": {},
   "outputs": [
    {
     "name": "stdout",
     "output_type": "stream",
     "text": [
      "[0.+0.j 1.+0.j 2.+0.j 3.+0.j 4.+0.j 5.+0.j 6.+0.j 7.+0.j 8.+0.j 9.+0.j]\n",
      "[ 1.  3.  5.  7.  9. 11.]\n"
     ]
    }
   ],
   "source": [
    "\n",
    "# =-------ARANGE ------==\n",
    "# syntax - arrange( start, stop ,)\n",
    "ab = np.arange(10) #kinda like range()\n",
    "# print(ab)\n",
    "\n",
    "# syntax - arrange(start, stop, step)\n",
    "# means starts from and stoped at. and the step between them is the last one\n",
    "\n",
    "d1 = np.arange(10, dtype=\"complex\")\n",
    "# ^---> for this the syntax : arange(stop, dtype)\n",
    "\n",
    "d2 = np.arange(1, 12, 2 , dtype=\"float\")\n",
    "# ^--> for this arange(start, stop, step, dtype)\n",
    "\n",
    "print(d1)\n",
    "print(d2)\n"
   ]
  },
  {
   "cell_type": "code",
   "execution_count": 27,
   "metadata": {},
   "outputs": [
    {
     "name": "stdout",
     "output_type": "stream",
     "text": [
      "[0. 0. 0. 0.]\n",
      "2D zeros ==> \n",
      "[[0 0 0]\n",
      " [0 0 0]]\n"
     ]
    }
   ],
   "source": [
    "d6 = np.zeros(4, order=\"F\")\n",
    "print(d6)\n",
    "print(\"2D zeros ==> \")\n",
    "d7 = np.zeros(shape=[2,3],dtype=\"int\")\n",
    "print(d7)"
   ]
  },
  {
   "cell_type": "code",
   "execution_count": 29,
   "metadata": {},
   "outputs": [
    {
     "data": {
      "text/plain": [
       "array([11, 12, 13])"
      ]
     },
     "execution_count": 29,
     "metadata": {},
     "output_type": "execute_result"
    }
   ],
   "source": [
    "# BROADCASTING -->>\n",
    "a = np.array([1, 2, 3])\n",
    "result = a + 10 \n",
    "result"
   ]
  },
  {
   "cell_type": "code",
   "execution_count": 32,
   "metadata": {},
   "outputs": [
    {
     "data": {
      "text/plain": [
       "array([[11, 22, 33],\n",
       "       [14, 25, 36]])"
      ]
     },
     "execution_count": 32,
     "metadata": {},
     "output_type": "execute_result"
    }
   ],
   "source": [
    "a1 = np.array([[1, 2, 3], [4, 5, 6]])\n",
    "b1 = np.array([10, 20, 30])\n",
    "result1 = a1 + b1\n",
    "result1"
   ]
  },
  {
   "cell_type": "code",
   "execution_count": 34,
   "metadata": {},
   "outputs": [
    {
     "data": {
      "text/plain": [
       "array([[11, 21,  6,  8],\n",
       "       [12, 22,  7,  9],\n",
       "       [13, 23,  8, 10]])"
      ]
     },
     "execution_count": 34,
     "metadata": {},
     "output_type": "execute_result"
    }
   ],
   "source": [
    "d = np.array([1, 2, 3])\n",
    "e = np.array([10, 20,5,7])\n",
    "result2 = d[:, np.newaxis] + e\n",
    "result2"
   ]
  }
 ],
 "metadata": {
  "language_info": {
   "name": "python"
  }
 },
 "nbformat": 4,
 "nbformat_minor": 2
}
